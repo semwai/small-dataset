{
 "cells": [
  {
   "cell_type": "code",
   "execution_count": 1,
   "metadata": {},
   "outputs": [],
   "source": [
    "import numpy as np\n",
    "from tensorflow import keras\n",
    "from tensorflow.keras import layers"
   ]
  },
  {
   "cell_type": "code",
   "execution_count": 19,
   "metadata": {},
   "outputs": [
    {
     "name": "stdout",
     "output_type": "stream",
     "text": [
      "x_train shape: (3000, 28, 28, 1)\n",
      "3000 train samples\n"
     ]
    }
   ],
   "source": [
    "num_classes = 96\n",
    "input_shape = (28, 28, 1)\n",
    "# качаем картинки, метки, картинки для теста, метки для теста\n",
    "x = np.load('out/x_train.npz')\n",
    "(x_train, y_train) = (x.get('arr_0'), x.get('arr_1'))\n",
    "# Картинки представляют собой чб изображения. Каждый пиксель может быть от черного(0) жо белого(255). Лучше промасштабировать это значение от 0 до 1, так нейронной сети будет лучше\n",
    "x_train = x_train.astype(\"float32\") / 255\n",
    "#x_test = x_test.astype(\"float32\") / 255\n",
    "# Make sure images have shape (28, 28, 1)\n",
    "# Изображения кодируются массивом 28 на 28 на 1. Да, массив из одного элемента в конце. \n",
    "x_train = np.expand_dims(x_train, -1)\n",
    "#x_test = np.expand_dims(x_test, -1)\n",
    "print(\"x_train shape:\", x_train.shape)\n",
    "print(x_train.shape[0], \"train samples\")\n",
    "#print(x_test.shape[0], \"test samples\")\n",
    "# Преобразовывем метку(0..9) в массив унитарных кодов. 4 = [0,0,0,0,1,0,0,0,0,0]\n",
    "y_train = keras.utils.to_categorical(y_train, num_classes)\n",
    "#y_test = keras.utils.to_categorical(y_test, num_classes)"
   ]
  },
  {
   "cell_type": "code",
   "execution_count": 30,
   "metadata": {},
   "outputs": [],
   "source": [
    "model = keras.Sequential(\n",
    "    [\n",
    "        keras.Input(shape=input_shape),\n",
    "        layers.Conv2D(32, kernel_size=(3, 3), activation=\"relu\"), # количество и размер сверточных слоев\n",
    "        #layers.MaxPooling2D(pool_size=(2, 2)),\n",
    "        layers.Dense(16, activation=\"relu\"),\n",
    "        layers.Conv2D(24, kernel_size=(5, 5), activation=\"relu\"),\n",
    "        layers.Conv2D(24, kernel_size=(14, 14), activation=\"relu\"),\n",
    "        layers.Flatten(),\n",
    "        layers.Dropout(0.25),\n",
    "        layers.Dense(num_classes, activation=\"softmax\"),\n",
    "    ]\n",
    ")"
   ]
  },
  {
   "cell_type": "code",
   "execution_count": 31,
   "metadata": {},
   "outputs": [
    {
     "name": "stdout",
     "output_type": "stream",
     "text": [
      "Epoch 1/40\n",
      "22/22 [==============================] - 8s 320ms/step - loss: 4.5128 - accuracy: 0.0215 - val_loss: 4.1122 - val_accuracy: 0.0900\n",
      "Epoch 2/40\n",
      "22/22 [==============================] - 6s 286ms/step - loss: 3.8012 - accuracy: 0.1242 - val_loss: 3.0697 - val_accuracy: 0.2167\n",
      "Epoch 3/40\n",
      "22/22 [==============================] - 6s 289ms/step - loss: 2.7079 - accuracy: 0.3081 - val_loss: 2.3013 - val_accuracy: 0.3900\n",
      "Epoch 4/40\n",
      "22/22 [==============================] - 7s 304ms/step - loss: 1.8226 - accuracy: 0.4987 - val_loss: 1.7828 - val_accuracy: 0.5100\n",
      "Epoch 5/40\n",
      "22/22 [==============================] - 7s 295ms/step - loss: 1.3185 - accuracy: 0.5916 - val_loss: 1.5080 - val_accuracy: 0.6033\n",
      "Epoch 6/40\n",
      "22/22 [==============================] - 7s 305ms/step - loss: 0.9895 - accuracy: 0.6875 - val_loss: 1.2935 - val_accuracy: 0.6167\n",
      "Epoch 7/40\n",
      "22/22 [==============================] - 6s 282ms/step - loss: 0.7565 - accuracy: 0.7525 - val_loss: 1.1365 - val_accuracy: 0.7067\n",
      "Epoch 8/40\n",
      "22/22 [==============================] - 7s 298ms/step - loss: 0.5738 - accuracy: 0.8065 - val_loss: 1.0761 - val_accuracy: 0.7233\n",
      "Epoch 9/40\n",
      "22/22 [==============================] - 7s 309ms/step - loss: 0.4821 - accuracy: 0.8473 - val_loss: 0.9140 - val_accuracy: 0.7700\n",
      "Epoch 10/40\n",
      "22/22 [==============================] - 7s 297ms/step - loss: 0.3821 - accuracy: 0.8668 - val_loss: 1.0551 - val_accuracy: 0.7533\n",
      "Epoch 11/40\n",
      "22/22 [==============================] - 7s 313ms/step - loss: 0.3472 - accuracy: 0.8964 - val_loss: 0.9339 - val_accuracy: 0.7967\n",
      "Epoch 12/40\n",
      "22/22 [==============================] - 6s 284ms/step - loss: 0.2890 - accuracy: 0.9060 - val_loss: 0.8977 - val_accuracy: 0.7733\n",
      "Epoch 13/40\n",
      "22/22 [==============================] - 7s 298ms/step - loss: 0.2642 - accuracy: 0.9147 - val_loss: 0.9575 - val_accuracy: 0.7733\n",
      "Epoch 14/40\n",
      "22/22 [==============================] - 6s 292ms/step - loss: 0.2303 - accuracy: 0.9302 - val_loss: 0.8581 - val_accuracy: 0.7767\n",
      "Epoch 15/40\n",
      "22/22 [==============================] - 6s 283ms/step - loss: 0.1929 - accuracy: 0.9388 - val_loss: 0.7996 - val_accuracy: 0.8267\n",
      "Epoch 16/40\n",
      "22/22 [==============================] - 7s 310ms/step - loss: 0.2601 - accuracy: 0.9141 - val_loss: 0.9305 - val_accuracy: 0.7867\n",
      "Epoch 17/40\n",
      "22/22 [==============================] - 8s 366ms/step - loss: 0.1946 - accuracy: 0.9442 - val_loss: 0.8196 - val_accuracy: 0.8367\n",
      "Epoch 18/40\n",
      "22/22 [==============================] - 8s 358ms/step - loss: 0.1820 - accuracy: 0.9471 - val_loss: 0.8712 - val_accuracy: 0.8200\n",
      "Epoch 19/40\n",
      "22/22 [==============================] - 7s 310ms/step - loss: 0.1459 - accuracy: 0.9507 - val_loss: 0.8382 - val_accuracy: 0.8500\n",
      "Epoch 20/40\n",
      "22/22 [==============================] - 7s 313ms/step - loss: 0.1099 - accuracy: 0.9642 - val_loss: 1.0645 - val_accuracy: 0.8333\n",
      "Epoch 21/40\n",
      "22/22 [==============================] - 7s 297ms/step - loss: 0.1224 - accuracy: 0.9655 - val_loss: 0.8328 - val_accuracy: 0.8500\n",
      "Epoch 22/40\n",
      "22/22 [==============================] - 7s 303ms/step - loss: 0.1337 - accuracy: 0.9604 - val_loss: 0.9983 - val_accuracy: 0.8200\n",
      "Epoch 23/40\n",
      "22/22 [==============================] - 7s 315ms/step - loss: 0.1137 - accuracy: 0.9595 - val_loss: 0.9328 - val_accuracy: 0.8167\n",
      "Epoch 24/40\n",
      "22/22 [==============================] - 6s 284ms/step - loss: 0.1027 - accuracy: 0.9663 - val_loss: 0.9306 - val_accuracy: 0.8400\n",
      "Epoch 25/40\n",
      "22/22 [==============================] - 7s 304ms/step - loss: 0.1088 - accuracy: 0.9670 - val_loss: 0.9007 - val_accuracy: 0.8400\n",
      "Epoch 26/40\n",
      "22/22 [==============================] - 6s 285ms/step - loss: 0.0944 - accuracy: 0.9739 - val_loss: 0.9321 - val_accuracy: 0.8200\n",
      "Epoch 27/40\n",
      "22/22 [==============================] - 6s 294ms/step - loss: 0.1304 - accuracy: 0.9595 - val_loss: 0.8442 - val_accuracy: 0.8600\n",
      "Epoch 28/40\n",
      "22/22 [==============================] - 7s 298ms/step - loss: 0.1083 - accuracy: 0.9656 - val_loss: 0.8724 - val_accuracy: 0.8467\n",
      "Epoch 29/40\n",
      "22/22 [==============================] - 7s 331ms/step - loss: 0.0647 - accuracy: 0.9809 - val_loss: 0.9248 - val_accuracy: 0.8367\n",
      "Epoch 30/40\n",
      "22/22 [==============================] - 8s 368ms/step - loss: 0.0503 - accuracy: 0.9839 - val_loss: 0.9124 - val_accuracy: 0.8333\n",
      "Epoch 31/40\n",
      "22/22 [==============================] - 8s 376ms/step - loss: 0.0634 - accuracy: 0.9804 - val_loss: 0.8829 - val_accuracy: 0.8633\n",
      "Epoch 32/40\n",
      "22/22 [==============================] - 9s 389ms/step - loss: 0.0768 - accuracy: 0.9745 - val_loss: 0.8496 - val_accuracy: 0.8567\n",
      "Epoch 33/40\n",
      "22/22 [==============================] - 8s 371ms/step - loss: 0.0727 - accuracy: 0.9788 - val_loss: 0.8643 - val_accuracy: 0.8500\n",
      "Epoch 34/40\n",
      "22/22 [==============================] - 8s 351ms/step - loss: 0.0685 - accuracy: 0.9780 - val_loss: 0.8732 - val_accuracy: 0.8500\n",
      "Epoch 35/40\n",
      "22/22 [==============================] - 8s 358ms/step - loss: 0.0529 - accuracy: 0.9841 - val_loss: 0.9591 - val_accuracy: 0.8467\n",
      "Epoch 36/40\n",
      "22/22 [==============================] - 7s 334ms/step - loss: 0.0720 - accuracy: 0.9763 - val_loss: 0.9078 - val_accuracy: 0.8533\n",
      "Epoch 37/40\n",
      "22/22 [==============================] - 7s 325ms/step - loss: 0.0613 - accuracy: 0.9814 - val_loss: 0.9148 - val_accuracy: 0.8567\n",
      "Epoch 38/40\n",
      "22/22 [==============================] - 8s 348ms/step - loss: 0.0593 - accuracy: 0.9834 - val_loss: 0.9611 - val_accuracy: 0.8600\n",
      "Epoch 39/40\n",
      "22/22 [==============================] - 7s 327ms/step - loss: 0.0548 - accuracy: 0.9828 - val_loss: 0.8415 - val_accuracy: 0.8533\n",
      "Epoch 40/40\n",
      "22/22 [==============================] - 7s 338ms/step - loss: 0.0420 - accuracy: 0.9900 - val_loss: 0.9856 - val_accuracy: 0.8467\n"
     ]
    },
    {
     "data": {
      "text/plain": [
       "<tensorflow.python.keras.callbacks.History at 0x23091df6d30>"
      ]
     },
     "execution_count": 31,
     "metadata": {},
     "output_type": "execute_result"
    }
   ],
   "source": [
    "batch_size = 128\n",
    "epochs = 40\n",
    "model.compile(loss=\"categorical_crossentropy\", optimizer=\"adam\", metrics=[\"accuracy\"])\n",
    "model.fit(x_train, y_train, batch_size=batch_size, epochs=epochs, validation_split=0.1)"
   ]
  },
  {
   "cell_type": "code",
   "execution_count": 32,
   "metadata": {},
   "outputs": [],
   "source": [
    "model.save(\"out/model.h5\")"
   ]
  }
 ],
 "metadata": {
  "kernelspec": {
   "display_name": "Python 3",
   "language": "python",
   "name": "python3"
  },
  "language_info": {
   "codemirror_mode": {
    "name": "ipython",
    "version": 3
   },
   "file_extension": ".py",
   "mimetype": "text/x-python",
   "name": "python",
   "nbconvert_exporter": "python",
   "pygments_lexer": "ipython3",
   "version": "3.8.5"
  }
 },
 "nbformat": 4,
 "nbformat_minor": 4
}
