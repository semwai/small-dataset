{
 "cells": [
  {
   "cell_type": "code",
   "execution_count": 2,
   "metadata": {},
   "outputs": [],
   "source": [
    "import numpy as np\n",
    "from tensorflow import keras\n",
    "from tensorflow.keras import layers"
   ]
  },
  {
   "cell_type": "code",
   "execution_count": 4,
   "metadata": {},
   "outputs": [
    {
     "name": "stdout",
     "output_type": "stream",
     "text": [
      "x_train shape: (95, 28, 28, 1)\n",
      "95 train samples\n"
     ]
    }
   ],
   "source": [
    "num_classes = 95\n",
    "input_shape = (28, 28, 1)\n",
    "# качаем картинки, метки, картинки для теста, метки для теста\n",
    "x = np.load('x_train.npz')\n",
    "(x_train, y_train) = (x.get('arr_0'), x.get('arr_1'))\n",
    "# Картинки представляют собой чб изображения. Каждый пиксель может быть от черного(0) жо белого(255). Лучше промасштабировать это значение от 0 до 1, так нейронной сети будет лучше\n",
    "x_train = x_train.astype(\"float32\") / 255\n",
    "#x_test = x_test.astype(\"float32\") / 255\n",
    "# Make sure images have shape (28, 28, 1)\n",
    "# Изображения кодируются массивом 28 на 28 на 1. Да, массив из одного элемента в конце. \n",
    "x_train = np.expand_dims(x_train, -1)\n",
    "#x_test = np.expand_dims(x_test, -1)\n",
    "print(\"x_train shape:\", x_train.shape)\n",
    "print(x_train.shape[0], \"train samples\")\n",
    "#print(x_test.shape[0], \"test samples\")\n",
    "# Преобразовывем метку(0..9) в массив унитарных кодов. 4 = [0,0,0,0,1,0,0,0,0,0]\n",
    "y_train = keras.utils.to_categorical(y_train, num_classes)\n",
    "#y_test = keras.utils.to_categorical(y_test, num_classes)"
   ]
  },
  {
   "cell_type": "code",
   "execution_count": 5,
   "metadata": {},
   "outputs": [],
   "source": [
    "model = keras.Sequential(\n",
    "    [\n",
    "        keras.Input(shape=input_shape),\n",
    "        layers.Conv2D(32, kernel_size=(3, 3), activation=\"relu\"), # количество и размер сверточных слоев\n",
    "        layers.MaxPooling2D(pool_size=(2, 2)),\n",
    "        layers.Conv2D(64, kernel_size=(3, 3), activation=\"relu\"),\n",
    "        layers.MaxPooling2D(pool_size=(2, 2)),\n",
    "        layers.Flatten(),\n",
    "        layers.Dropout(0.5),\n",
    "        layers.Dense(num_classes, activation=\"softmax\"),\n",
    "    ]\n",
    ")"
   ]
  },
  {
   "cell_type": "code",
   "execution_count": 10,
   "metadata": {},
   "outputs": [
    {
     "name": "stdout",
     "output_type": "stream",
     "text": [
      "Epoch 1/8\n",
      "85/85 [==============================] - 1s 6ms/step - loss: 8.0687e-05 - accuracy: 1.0000 - val_loss: 25.6642 - val_accuracy: 0.0000e+00\n",
      "Epoch 2/8\n",
      "85/85 [==============================] - 0s 3ms/step - loss: 5.4118e-05 - accuracy: 1.0000 - val_loss: 27.1781 - val_accuracy: 0.0000e+00\n",
      "Epoch 3/8\n",
      "85/85 [==============================] - 0s 3ms/step - loss: 1.8899e-05 - accuracy: 1.0000 - val_loss: 27.5857 - val_accuracy: 0.0000e+00\n",
      "Epoch 4/8\n",
      "85/85 [==============================] - 0s 4ms/step - loss: 5.7686e-06 - accuracy: 1.0000 - val_loss: 27.5338 - val_accuracy: 0.0000e+00\n",
      "Epoch 5/8\n",
      "85/85 [==============================] - 0s 3ms/step - loss: 3.0134e-05 - accuracy: 1.0000 - val_loss: 28.1317 - val_accuracy: 0.0000e+00\n",
      "Epoch 6/8\n",
      "85/85 [==============================] - 0s 3ms/step - loss: 0.0010 - accuracy: 1.0000 - val_loss: 28.2858 - val_accuracy: 0.0000e+00\n",
      "Epoch 7/8\n",
      "85/85 [==============================] - 0s 4ms/step - loss: 9.3135e-05 - accuracy: 1.0000 - val_loss: 26.8965 - val_accuracy: 0.0000e+00\n",
      "Epoch 8/8\n",
      "85/85 [==============================] - 0s 5ms/step - loss: 8.6837e-05 - accuracy: 1.0000 - val_loss: 26.8414 - val_accuracy: 0.0000e+00\n"
     ]
    },
    {
     "data": {
      "text/plain": [
       "<tensorflow.python.keras.callbacks.History at 0x181e8016bb0>"
      ]
     },
     "execution_count": 10,
     "metadata": {},
     "output_type": "execute_result"
    }
   ],
   "source": [
    "batch_size = 1\n",
    "epochs = 8\n",
    "model.compile(loss=\"categorical_crossentropy\", optimizer=\"adam\", metrics=[\"accuracy\"])\n",
    "model.fit(x_train, y_train, batch_size=batch_size, epochs=epochs, validation_split=0.1)"
   ]
  },
  {
   "cell_type": "code",
   "execution_count": 11,
   "metadata": {},
   "outputs": [],
   "source": [
    "model.save(\"model.h5\")"
   ]
  }
 ],
 "metadata": {
  "kernelspec": {
   "display_name": "Python 3",
   "language": "python",
   "name": "python3"
  },
  "language_info": {
   "codemirror_mode": {
    "name": "ipython",
    "version": 3
   },
   "file_extension": ".py",
   "mimetype": "text/x-python",
   "name": "python",
   "nbconvert_exporter": "python",
   "pygments_lexer": "ipython3",
   "version": "3.8.5"
  }
 },
 "nbformat": 4,
 "nbformat_minor": 4
}
